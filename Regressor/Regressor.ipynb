{
 "cells": [
  {
   "cell_type": "code",
   "execution_count": 150,
   "metadata": {
    "ExecuteTime": {
     "end_time": "2020-09-21T06:00:27.567710Z",
     "start_time": "2020-09-21T06:00:27.564735Z"
    }
   },
   "outputs": [],
   "source": [
    "# pip install mlxtend -i https://pypi.douban.com/simple\n",
    "# pip install ngboost -i https://pypi.tuna.tsinghua.edu.cn/simple"
   ]
  },
  {
   "cell_type": "code",
   "execution_count": 26,
   "metadata": {
    "ExecuteTime": {
     "end_time": "2020-09-21T06:50:03.485232Z",
     "start_time": "2020-09-21T06:50:03.475311Z"
    }
   },
   "outputs": [],
   "source": [
    "import numpy as np\n",
    "import pandas as pd\n",
    "import seaborn as sns\n",
    "import matplotlib.pyplot as plt\n",
    "%matplotlib inline\n",
    "plt.rcParams['font.family'] = ['sans-serif']\n",
    "plt.rcParams['font.sans-serif'] = ['SimHei']\n",
    "\n",
    "from scipy.special import boxcox1p\n",
    "from scipy.stats import skew,boxcox_normmax\n",
    "\n",
    "\n",
    "from sklearn.pipeline import make_pipeline\n",
    "from sklearn.model_selection import train_test_split\n",
    "from sklearn.metrics import mean_absolute_error,mean_squared_error,explained_variance_score,median_absolute_error,r2_score\n",
    "from sklearn.preprocessing import MinMaxScaler,StandardScaler,RobustScaler\n",
    "\n",
    "from sklearn.svm import SVR\n",
    "from sklearn.ensemble import GradientBoostingRegressor\n",
    "from sklearn.linear_model import LinearRegression,RidgeCV,LassoCV,ElasticNetCV\n",
    "from mlxtend.regressor import StackingCVRegressor # pip install mlxtend -i https://pypi.douban.com/simple\n",
    "from lightgbm import LGBMRegressor\n",
    "from xgboost import XGBRegressor\n",
    "from catboost import CatBoostRegressor\n",
    "from ngboost import NGBRegressor\n",
    "from ngboost.ngboost import NGBoost # pip install ngboost -i https://pypi.tuna.tsinghua.edu.cn/simple\n",
    "\n",
    "from ngboost.learners import default_tree_learner\n",
    "from ngboost.distns import Normal"
   ]
  },
  {
   "cell_type": "code",
   "execution_count": 3,
   "metadata": {
    "ExecuteTime": {
     "end_time": "2020-09-21T06:17:32.043708Z",
     "start_time": "2020-09-21T06:17:31.950926Z"
    }
   },
   "outputs": [
    {
     "name": "stdout",
     "output_type": "stream",
     "text": [
      "缺省值： 0\n"
     ]
    },
    {
     "data": {
      "text/html": [
       "<div>\n",
       "<style scoped>\n",
       "    .dataframe tbody tr th:only-of-type {\n",
       "        vertical-align: middle;\n",
       "    }\n",
       "\n",
       "    .dataframe tbody tr th {\n",
       "        vertical-align: top;\n",
       "    }\n",
       "\n",
       "    .dataframe thead th {\n",
       "        text-align: right;\n",
       "    }\n",
       "</style>\n",
       "<table border=\"1\" class=\"dataframe\">\n",
       "  <thead>\n",
       "    <tr style=\"text-align: right;\">\n",
       "      <th></th>\n",
       "      <th>Unnamed: 0</th>\n",
       "      <th>market_cap</th>\n",
       "      <th>circulating_market_cap</th>\n",
       "      <th>turnover_ratio</th>\n",
       "      <th>pe_ratio</th>\n",
       "      <th>pe_ratio_lyr</th>\n",
       "      <th>pb_ratio</th>\n",
       "      <th>ps_ratio</th>\n",
       "      <th>pcf_ratio</th>\n",
       "      <th>cash_equivalents</th>\n",
       "      <th>...</th>\n",
       "      <th>roa</th>\n",
       "      <th>net_profit_margin</th>\n",
       "      <th>gross_profit_margin</th>\n",
       "      <th>reverse_240_mean</th>\n",
       "      <th>reverse_240_max</th>\n",
       "      <th>reverse_240_start</th>\n",
       "      <th>reverse_120_mean</th>\n",
       "      <th>reverse_120_max</th>\n",
       "      <th>reverse_120_start</th>\n",
       "      <th>up</th>\n",
       "    </tr>\n",
       "  </thead>\n",
       "  <tbody>\n",
       "    <tr>\n",
       "      <th>0</th>\n",
       "      <td>000002.XSHE</td>\n",
       "      <td>3006.3701</td>\n",
       "      <td>2584.2351</td>\n",
       "      <td>0.7298</td>\n",
       "      <td>7.7085</td>\n",
       "      <td>7.7340</td>\n",
       "      <td>1.5935</td>\n",
       "      <td>0.8185</td>\n",
       "      <td>8.5519</td>\n",
       "      <td>1.732720e+11</td>\n",
       "      <td>...</td>\n",
       "      <td>0.14</td>\n",
       "      <td>5.09</td>\n",
       "      <td>31.28</td>\n",
       "      <td>-0.048486</td>\n",
       "      <td>-0.190111</td>\n",
       "      <td>-0.017877</td>\n",
       "      <td>-0.067591</td>\n",
       "      <td>-0.190111</td>\n",
       "      <td>-0.063898</td>\n",
       "      <td>-0.007584</td>\n",
       "    </tr>\n",
       "    <tr>\n",
       "      <th>1</th>\n",
       "      <td>000004.XSHE</td>\n",
       "      <td>47.7827</td>\n",
       "      <td>24.2950</td>\n",
       "      <td>1.5287</td>\n",
       "      <td>3052.5702</td>\n",
       "      <td>1541.6929</td>\n",
       "      <td>3.4228</td>\n",
       "      <td>194.6587</td>\n",
       "      <td>-276.1675</td>\n",
       "      <td>6.683990e+07</td>\n",
       "      <td>...</td>\n",
       "      <td>0.24</td>\n",
       "      <td>15.38</td>\n",
       "      <td>83.07</td>\n",
       "      <td>0.186949</td>\n",
       "      <td>-0.360509</td>\n",
       "      <td>0.247495</td>\n",
       "      <td>0.005048</td>\n",
       "      <td>-0.360509</td>\n",
       "      <td>0.386441</td>\n",
       "      <td>-0.012225</td>\n",
       "    </tr>\n",
       "    <tr>\n",
       "      <th>2</th>\n",
       "      <td>000005.XSHE</td>\n",
       "      <td>28.0512</td>\n",
       "      <td>28.0356</td>\n",
       "      <td>0.2799</td>\n",
       "      <td>16.3610</td>\n",
       "      <td>16.0579</td>\n",
       "      <td>1.8284</td>\n",
       "      <td>5.4512</td>\n",
       "      <td>297.9045</td>\n",
       "      <td>9.222150e+07</td>\n",
       "      <td>...</td>\n",
       "      <td>-0.77</td>\n",
       "      <td>-48.92</td>\n",
       "      <td>31.52</td>\n",
       "      <td>-0.115380</td>\n",
       "      <td>-0.313316</td>\n",
       "      <td>-0.060714</td>\n",
       "      <td>-0.081004</td>\n",
       "      <td>-0.180685</td>\n",
       "      <td>-0.117450</td>\n",
       "      <td>-0.003802</td>\n",
       "    </tr>\n",
       "    <tr>\n",
       "      <th>3</th>\n",
       "      <td>000006.XSHE</td>\n",
       "      <td>70.1997</td>\n",
       "      <td>70.1120</td>\n",
       "      <td>1.8212</td>\n",
       "      <td>8.5794</td>\n",
       "      <td>8.7622</td>\n",
       "      <td>1.0228</td>\n",
       "      <td>1.7682</td>\n",
       "      <td>-6.7698</td>\n",
       "      <td>2.287954e+09</td>\n",
       "      <td>...</td>\n",
       "      <td>0.90</td>\n",
       "      <td>21.56</td>\n",
       "      <td>47.82</td>\n",
       "      <td>-0.001795</td>\n",
       "      <td>-0.095745</td>\n",
       "      <td>-0.053803</td>\n",
       "      <td>0.033374</td>\n",
       "      <td>-0.077758</td>\n",
       "      <td>-0.022989</td>\n",
       "      <td>0.015686</td>\n",
       "    </tr>\n",
       "    <tr>\n",
       "      <th>4</th>\n",
       "      <td>000007.XSHE</td>\n",
       "      <td>27.9930</td>\n",
       "      <td>24.9630</td>\n",
       "      <td>2.1321</td>\n",
       "      <td>-297.6667</td>\n",
       "      <td>125.5995</td>\n",
       "      <td>15.0061</td>\n",
       "      <td>67.3774</td>\n",
       "      <td>768.1830</td>\n",
       "      <td>1.441551e+07</td>\n",
       "      <td>...</td>\n",
       "      <td>-4.42</td>\n",
       "      <td>-260.33</td>\n",
       "      <td>68.37</td>\n",
       "      <td>-0.041280</td>\n",
       "      <td>-0.280859</td>\n",
       "      <td>0.150215</td>\n",
       "      <td>-0.064946</td>\n",
       "      <td>-0.238636</td>\n",
       "      <td>-0.238636</td>\n",
       "      <td>0.001244</td>\n",
       "    </tr>\n",
       "  </tbody>\n",
       "</table>\n",
       "<p>5 rows × 24 columns</p>\n",
       "</div>"
      ],
      "text/plain": [
       "    Unnamed: 0  market_cap  circulating_market_cap  turnover_ratio   pe_ratio  \\\n",
       "0  000002.XSHE   3006.3701               2584.2351          0.7298     7.7085   \n",
       "1  000004.XSHE     47.7827                 24.2950          1.5287  3052.5702   \n",
       "2  000005.XSHE     28.0512                 28.0356          0.2799    16.3610   \n",
       "3  000006.XSHE     70.1997                 70.1120          1.8212     8.5794   \n",
       "4  000007.XSHE     27.9930                 24.9630          2.1321  -297.6667   \n",
       "\n",
       "   pe_ratio_lyr  pb_ratio  ps_ratio  pcf_ratio  cash_equivalents  ...   roa  \\\n",
       "0        7.7340    1.5935    0.8185     8.5519      1.732720e+11  ...  0.14   \n",
       "1     1541.6929    3.4228  194.6587  -276.1675      6.683990e+07  ...  0.24   \n",
       "2       16.0579    1.8284    5.4512   297.9045      9.222150e+07  ... -0.77   \n",
       "3        8.7622    1.0228    1.7682    -6.7698      2.287954e+09  ...  0.90   \n",
       "4      125.5995   15.0061   67.3774   768.1830      1.441551e+07  ... -4.42   \n",
       "\n",
       "   net_profit_margin  gross_profit_margin  reverse_240_mean  reverse_240_max  \\\n",
       "0               5.09                31.28         -0.048486        -0.190111   \n",
       "1              15.38                83.07          0.186949        -0.360509   \n",
       "2             -48.92                31.52         -0.115380        -0.313316   \n",
       "3              21.56                47.82         -0.001795        -0.095745   \n",
       "4            -260.33                68.37         -0.041280        -0.280859   \n",
       "\n",
       "   reverse_240_start  reverse_120_mean  reverse_120_max  reverse_120_start  \\\n",
       "0          -0.017877         -0.067591        -0.190111          -0.063898   \n",
       "1           0.247495          0.005048        -0.360509           0.386441   \n",
       "2          -0.060714         -0.081004        -0.180685          -0.117450   \n",
       "3          -0.053803          0.033374        -0.077758          -0.022989   \n",
       "4           0.150215         -0.064946        -0.238636          -0.238636   \n",
       "\n",
       "         up  \n",
       "0 -0.007584  \n",
       "1 -0.012225  \n",
       "2 -0.003802  \n",
       "3  0.015686  \n",
       "4  0.001244  \n",
       "\n",
       "[5 rows x 24 columns]"
      ]
     },
     "execution_count": 3,
     "metadata": {},
     "output_type": "execute_result"
    }
   ],
   "source": [
    "data = pd.read_csv('../data/train.csv')\n",
    "print('缺省值：',data.isna().sum().sum())\n",
    "data.head()"
   ]
  },
  {
   "cell_type": "code",
   "execution_count": 4,
   "metadata": {
    "ExecuteTime": {
     "end_time": "2020-09-21T06:17:33.403166Z",
     "start_time": "2020-09-21T06:17:33.185881Z"
    }
   },
   "outputs": [
    {
     "data": {
      "image/png": "[encoded data removed]",
      "text/plain": [
       "<Figure size 432x288 with 1 Axes>"
      ]
     },
     "metadata": {},
     "output_type": "display_data"
    }
   ],
   "source": [
    "sns.set()\n",
    "plt.hist(data['up'])\n",
    "plt.show()"
   ]
  },
  {
   "cell_type": "code",
   "execution_count": 6,
   "metadata": {
    "ExecuteTime": {
     "end_time": "2020-09-21T06:17:43.405162Z",
     "start_time": "2020-09-21T06:17:43.396730Z"
    }
   },
   "outputs": [],
   "source": [
    "name = data['Unnamed: 0']\n",
    "Y = data['up']\n",
    "X = data.drop(['Unnamed: 0','up'], axis=1)\n",
    "train_x, test_x, train_y, test_y = train_test_split(X, Y, test_size=0.25,random_state=2020)"
   ]
  },
  {
   "cell_type": "markdown",
   "metadata": {},
   "source": [
    "# 不调参"
   ]
  },
  {
   "cell_type": "code",
   "execution_count": 5,
   "metadata": {
    "ExecuteTime": {
     "end_time": "2020-09-21T01:29:41.231764Z",
     "start_time": "2020-09-21T01:29:41.227827Z"
    }
   },
   "outputs": [],
   "source": [
    "lr = LinearRegression()\n",
    "ridge = Ridge()\n",
    "lasso = Lasso()\n",
    "enet  = ElasticNet()\n",
    "xgb = XGBRegressor()\n",
    "lgb = LGBMRegressor()\n",
    "cat = CatBoostRegressor()\n",
    "ngb = NGBRegressor()"
   ]
  },
  {
   "cell_type": "code",
   "execution_count": 7,
   "metadata": {
    "ExecuteTime": {
     "end_time": "2020-09-21T01:30:48.189209Z",
     "start_time": "2020-09-21T01:30:08.551464Z"
    }
   },
   "outputs": [
    {
     "name": "stderr",
     "output_type": "stream",
     "text": [
      "F:\\Anaconda\\envs\\ml\\lib\\site-packages\\sklearn\\linear_model\\_ridge.py:148: LinAlgWarning: Ill-conditioned matrix (rcond=3.6474e-26): result may not be accurate.\n",
      "  overwrite_a=True).T\n"
     ]
    },
    {
     "name": "stdout",
     "output_type": "stream",
     "text": [
      "[iter 0] loss=-2.3196 val_loss=0.0000 scale=1.0000 norm=0.6535\n",
      "[iter 100] loss=-2.5340 val_loss=0.0000 scale=2.0000 norm=1.0844\n",
      "[iter 200] loss=-2.6143 val_loss=0.0000 scale=1.0000 norm=0.5338\n",
      "[iter 300] loss=-2.6541 val_loss=0.0000 scale=2.0000 norm=1.0583\n",
      "[iter 400] loss=-2.6806 val_loss=0.0000 scale=1.0000 norm=0.5258\n"
     ]
    },
    {
     "data": {
      "text/plain": [
       "NGBRegressor(random_state=RandomState(MT19937) at 0x235DE1FBCA8)"
      ]
     },
     "execution_count": 7,
     "metadata": {},
     "output_type": "execute_result"
    }
   ],
   "source": [
    "lr.fit(train_x,train_y)\n",
    "ridge.fit(train_x,train_y)\n",
    "lasso.fit(train_x,train_y)\n",
    "enet.fit(train_x,train_y)\n",
    "xgb.fit(train_x,train_y,verbose=False)\n",
    "lgb.fit(train_x,train_y,verbose=False)\n",
    "cat.fit(train_x,train_y,verbose=False)\n",
    "ngb.fit(train_x,train_y)"
   ]
  },
  {
   "cell_type": "code",
   "execution_count": 8,
   "metadata": {
    "ExecuteTime": {
     "end_time": "2020-09-21T01:31:05.230326Z",
     "start_time": "2020-09-21T01:31:04.597262Z"
    }
   },
   "outputs": [],
   "source": [
    "lr_pre    = lr.predict(test_x)\n",
    "ridge_pre = ridge.predict(test_x)\n",
    "lasso_pre = lasso.predict(test_x)\n",
    "enet_pre  = enet.predict(test_x)\n",
    "xgb_pre   = xgb.predict(test_x)\n",
    "lgb_pre   = lgb.predict(test_x)\n",
    "cat_pre   = cat.predict(test_x)\n",
    "ngb_pre   = ngb.predict(test_x)"
   ]
  },
  {
   "cell_type": "code",
   "execution_count": 23,
   "metadata": {
    "ExecuteTime": {
     "end_time": "2020-09-21T01:52:53.747739Z",
     "start_time": "2020-09-21T01:52:53.715998Z"
    }
   },
   "outputs": [
    {
     "name": "stdout",
     "output_type": "stream",
     "text": [
      "lr :\n",
      "\t平均绝对值误差\t0.014288303965603513\n",
      "\t均方差 \t\t0.0004677690893305008\n",
      "\t中值绝对误差 \t0.00938778290063906\n",
      "\t可释方差得分 \t0.016874976132632336\n",
      "\t决定系数 \t0.01687328903791485\n",
      "ridge :\n",
      "\t平均绝对值误差\t0.0142876509355531\n",
      "\t均方差 \t\t0.00046771222505339634\n",
      "\t中值绝对误差 \t0.009372943215069226\n",
      "\t可释方差得分 \t0.016994385159446068\n",
      "\t决定系数 \t0.0169928026847036\n",
      "lasso :\n",
      "\t平均绝对值误差\t0.014427797921520028\n",
      "\t均方差 \t\t0.00047376588788739155\n",
      "\t中值绝对误差 \t0.009514813169374461\n",
      "\t可释方差得分 \t0.004393514186624925\n",
      "\t决定系数 \t0.004269607058893232\n",
      "enet :\n",
      "\t平均绝对值误差\t0.0144235696416334\n",
      "\t均方差 \t\t0.0004728540346299509\n",
      "\t中值绝对误差 \t0.00952357057278311\n",
      "\t可释方差得分 \t0.006307380459011691\n",
      "\t决定系数 \t0.006186081050688519\n",
      "xgb :\n",
      "\t平均绝对值误差\t0.016564375395988443\n",
      "\t均方差 \t\t0.0006082845984198974\n",
      "\t中值绝对误差 \t0.010882670099182128\n",
      "\t可释方差得分 \t-0.2767898841477714\n",
      "\t决定系数 \t-0.27845308767488186\n",
      "lgb :\n",
      "\t平均绝对值误差\t0.015437267376697029\n",
      "\t均方差 \t\t0.0005399624184849764\n",
      "\t中值绝对误差 \t0.010168146382099098\n",
      "\t可释方差得分 \t-0.13394119024978401\n",
      "\t决定系数 \t-0.13485796440302278\n",
      "cat :\n",
      "\t平均绝对值误差\t0.015461562261171275\n",
      "\t均方差 \t\t0.0005486730479931835\n",
      "\t中值绝对误差 \t0.010037803819977438\n",
      "\t可释方差得分 \t-0.15200044426640646\n",
      "\t决定系数 \t-0.15316540013177016\n",
      "ngb :\n",
      "\t平均绝对值误差\t0.014431397996360758\n",
      "\t均方差 \t\t0.00048477369185526706\n",
      "\t中值绝对误差 \t0.009140582547026058\n",
      "\t可释方差得分 \t-0.01865285521748805\n",
      "\t决定系数 \t-0.01886588084891616\n"
     ]
    }
   ],
   "source": [
    "# MAE 平均绝对值误差 \n",
    "## 用于评估预测结果和真实数据集的接近程度的程度，其其值越小说明拟合效果越好\n",
    "# MSE 均方差\n",
    "## 该指标计算的是拟合数据和原始数据对应样本点的误差的平方和的均值，其值越小说明拟合效果越好。\n",
    "# MedianAE 中值绝对误差\n",
    "## 此种方法非常适应含有离群点的数据集,越小越好\n",
    "\n",
    "# EVS 可释方差得分\n",
    "## 解释回归模型的方差得分，其值取值范围是[0,1]，越接近于1说明自变量越能解释因变量的方差变化，值越小则说明效果越差。\n",
    "# R2  决定系数（拟合优度）\n",
    "## 判定系数，其含义是也是解释回归模型的方差得分，其值取值范围是[0,1]，越接近于1说明自变量越能解释因变量的方差变化，值越小则说明效果越差。\n",
    "\n",
    "mae  = []\n",
    "mse  = []\n",
    "median_ae = []\n",
    "\n",
    "evs  = []\n",
    "r2   = []\n",
    "all_less = []\n",
    "all_more = []\n",
    "for pre,name in zip([lr_pre,ridge_pre,lasso_pre,enet_pre,xgb_pre,lgb_pre,cat_pre,ngb_pre],\n",
    "                   ['lr','ridge','lasso','enet','xgb','lgb','cat','ngb']):\n",
    "    print(name,':')\n",
    "    MAE = mean_absolute_error(test_y,pre)\n",
    "    MSE = mean_squared_error(test_y,pre)\n",
    "    EVS = explained_variance_score(test_y,pre)\n",
    "    Median_AE = median_absolute_error(test_y,pre)\n",
    "    R2  = r2_score(test_y,pre)\n",
    "    mae.append(MAE)\n",
    "    mse.append(MSE)\n",
    "    evs.append(EVS)\n",
    "    median_ae.append(Median_AE)\n",
    "    r2.append(R2)\n",
    "    print('\\t平均绝对值误差\\t{}\\n\\t均方差 \\t\\t{}\\n\\t中值绝对误差 \\t{}\\n\\t可释方差得分 \\t{}\\n\\t决定系数 \\t{}'.format(\n",
    "    MAE,MSE,Median_AE,EVS,R2))"
   ]
  },
  {
   "cell_type": "code",
   "execution_count": 91,
   "metadata": {
    "ExecuteTime": {
     "end_time": "2020-09-21T02:45:35.876518Z",
     "start_time": "2020-09-21T02:45:35.462390Z"
    }
   },
   "outputs": [
    {
     "data": {
      "text/plain": [
       "<BarContainer object of 8 artists>"
      ]
     },
     "execution_count": 91,
     "metadata": {},
     "output_type": "execute_result"
    },
    {
     "data": {
      "image/png": "[encoded data removed]",
      "text/plain": [
       "<Figure size 1200x800 with 3 Axes>"
      ]
     },
     "metadata": {
      "needs_background": "light"
     },
     "output_type": "display_data"
    }
   ],
   "source": [
    "y_plot = mae\n",
    "x_name = ['lr','ridge','lasso','enet','xgb','lgb','cat','ngb']\n",
    "\n",
    "plt.figure(figsize=(15,10), dpi=80)\n",
    "\n",
    "plt.subplot(221)\n",
    "plt.ylim(0.014,0.016)\n",
    "plt.title('平均绝对值误差 MAE')\n",
    "plt.bar(x_name,y_plot)\n",
    "\n",
    "y_plot = mse\n",
    "plt.subplot(222)\n",
    "# plt.ylim(0.014,0.016)\n",
    "plt.title('均方差 MSE')\n",
    "plt.bar(x_name,y_plot)\n",
    "\n",
    "y_plot = median_ae\n",
    "plt.subplot(223)\n",
    "# plt.ylim(0.014,0.016)\n",
    "plt.title('中值绝对误差 Median_AE')\n",
    "plt.bar(x_name,y_plot)"
   ]
  },
  {
   "cell_type": "markdown",
   "metadata": {},
   "source": [
    "# 特征工程"
   ]
  },
  {
   "cell_type": "code",
   "execution_count": 7,
   "metadata": {
    "ExecuteTime": {
     "end_time": "2020-09-21T06:17:47.264840Z",
     "start_time": "2020-09-21T06:17:47.259879Z"
    }
   },
   "outputs": [
    {
     "data": {
      "text/plain": [
       "Index(['market_cap', 'circulating_market_cap', 'turnover_ratio', 'pe_ratio',\n",
       "       'pe_ratio_lyr', 'pb_ratio', 'ps_ratio', 'pcf_ratio', 'cash_equivalents',\n",
       "       'total_owner_equities', 'total_sheet_owner_equities', 'roe',\n",
       "       'inc_return', 'roa', 'net_profit_margin', 'gross_profit_margin',\n",
       "       'reverse_240_mean', 'reverse_240_max', 'reverse_240_start',\n",
       "       'reverse_120_mean', 'reverse_120_max', 'reverse_120_start'],\n",
       "      dtype='object')"
      ]
     },
     "execution_count": 7,
     "metadata": {},
     "output_type": "execute_result"
    }
   ],
   "source": [
    "X.columns"
   ]
  },
  {
   "cell_type": "markdown",
   "metadata": {},
   "source": [
    "## 2.1 规范化"
   ]
  },
  {
   "cell_type": "code",
   "execution_count": 113,
   "metadata": {
    "ExecuteTime": {
     "end_time": "2020-09-21T02:56:44.771927Z",
     "start_time": "2020-09-21T02:56:44.759031Z"
    }
   },
   "outputs": [],
   "source": [
    "def choose_scaler(model_name,X):\n",
    "    \"\"\"\n",
    "    model_name = ['lr','ridge','xgb','lgb']\n",
    "    return MAE 和 图\n",
    "    \"\"\"\n",
    "    min_max_scaler  = MinMaxScaler().fit(X)\n",
    "    standard_scaler = StandardScaler().fit(X)\n",
    "    \n",
    "    X_minmax   = min_max_scaler.transform(X) \n",
    "    X_standard = standard_scaler.transform(X)\n",
    "    \n",
    "    if model_name == 'lr':\n",
    "        print('（MAE） LR:\\t0.014288303965603513')\n",
    "        \n",
    "        train_x, test_x, train_y, test_y = train_test_split(X_minmax, Y, test_size=0.25,random_state=2020)\n",
    "        lr.fit(train_x,train_y)\n",
    "        minmax = mean_absolute_error(test_y,lr.predict(test_x))\n",
    "        print('MinMax规范化:  ',minmax)\n",
    "        train_x, test_x, train_y, test_y = train_test_split(X_standard, Y, test_size=0.25,random_state=2020)\n",
    "        lr.fit(train_x,train_y)\n",
    "        standard = mean_absolute_error(test_y,lr.predict(test_x))\n",
    "        print('Standard规范化:',standard)\n",
    "        plt.bar(['LR','MinMax规范化','Standard规范化:'],[0.014288303965603513,minmax,standard])\n",
    "    elif model_name == 'xgb':\n",
    "        print('（MAE） XGB:\\t0.016564375395988443')\n",
    "        \n",
    "        train_x, test_x, train_y, test_y = train_test_split(X_minmax, Y, test_size=0.25,random_state=2020)\n",
    "        xgb.fit(train_x,train_y,verbose=False)\n",
    "        minmax = mean_absolute_error(test_y,xgb.predict(test_x))\n",
    "        print('MinMax规范化:  ',minmax)\n",
    "        train_x, test_x, train_y, test_y = train_test_split(X_standard, Y, test_size=0.25,random_state=2020)\n",
    "        xgb.fit(train_x,train_y,verbose=False)\n",
    "        standard = mean_absolute_error(test_y,xgb.predict(test_x))\n",
    "        print('Standard规范化:',standard)\n",
    "        plt.bar(['XGB','MinMax规范化','Standard规范化:'],[0.016564375395988443,minmax,standard])\n",
    "    elif model_name == 'ridge':\n",
    "        print('（MAE） Ridge:\\t0.0142876509355531')\n",
    "        \n",
    "        train_x, test_x, train_y, test_y = train_test_split(X_minmax, Y, test_size=0.25,random_state=2020)\n",
    "        ridge.fit(train_x,train_y)\n",
    "        minmax = mean_absolute_error(test_y,ridge.predict(test_x))\n",
    "        print('MinMax规范化:  ',minmax)\n",
    "        train_x, test_x, train_y, test_y = train_test_split(X_standard, Y, test_size=0.25,random_state=2020)\n",
    "        ridge.fit(train_x,train_y)\n",
    "        standard = mean_absolute_error(test_y,ridge.predict(test_x))\n",
    "        print('Standard规范化:',standard)\n",
    "        plt.bar(['Ridge','MinMax规范化','Standard规范化:'],[0.0142876509355531,minmax,standard])\n",
    "    elif model_name == 'lgb':\n",
    "        print('（MAE） LGB:\\t0.015437267376697029')\n",
    "        \n",
    "        train_x, test_x, train_y, test_y = train_test_split(X_minmax, Y, test_size=0.25,random_state=2020)\n",
    "        lgb.fit(train_x,train_y,verbose=False)\n",
    "        minmax = mean_absolute_error(test_y,lgb.predict(test_x))\n",
    "        print('MinMax规范化:  ',minmax)\n",
    "        train_x, test_x, train_y, test_y = train_test_split(X_standard, Y, test_size=0.25,random_state=2020)\n",
    "        lgb.fit(train_x,train_y,verbose=False)\n",
    "        standard = mean_absolute_error(test_y,lgb.predict(test_x))\n",
    "        print('Standard规范化:',standard)\n",
    "        plt.bar(['LGB','MinMax规范化','Standard规范化:'],[0.015437267376697029,minmax,standard])\n",
    "    if minmax<standard:print('选择MinMax规范化')\n",
    "    else:print('选择Standard规范化')"
   ]
  },
  {
   "cell_type": "code",
   "execution_count": 114,
   "metadata": {
    "ExecuteTime": {
     "end_time": "2020-09-21T02:56:46.402426Z",
     "start_time": "2020-09-21T02:56:46.250124Z"
    }
   },
   "outputs": [
    {
     "name": "stdout",
     "output_type": "stream",
     "text": [
      "（MAE） LR:\t0.014288303965603513\n",
      "MinMax规范化:   0.014288303906222004\n",
      "Standard规范化: 0.014288303906222002\n",
      "选择Standard规范化\n"
     ]
    },
    {
     "data": {
      "image/png": "[encoded data removed]",
      "text/plain": [
       "<Figure size 432x288 with 1 Axes>"
      ]
     },
     "metadata": {
      "needs_background": "light"
     },
     "output_type": "display_data"
    }
   ],
   "source": [
    "choose_scaler('lr',X)\n",
    "# Standard规范化"
   ]
  },
  {
   "cell_type": "code",
   "execution_count": 120,
   "metadata": {
    "ExecuteTime": {
     "end_time": "2020-09-21T02:57:12.679478Z",
     "start_time": "2020-09-21T02:57:12.521253Z"
    }
   },
   "outputs": [
    {
     "name": "stdout",
     "output_type": "stream",
     "text": [
      "（MAE） Ridge:\t0.0142876509355531\n",
      "MinMax规范化:   0.014276538489326807\n",
      "Standard规范化: 0.014288305265153891\n",
      "选择MinMax规范化\n"
     ]
    },
    {
     "data": {
      "image/png": "[encoded data removed]",
      "text/plain": [
       "<Figure size 432x288 with 1 Axes>"
      ]
     },
     "metadata": {
      "needs_background": "light"
     },
     "output_type": "display_data"
    }
   ],
   "source": [
    "choose_scaler('ridge',X)"
   ]
  },
  {
   "cell_type": "code",
   "execution_count": 116,
   "metadata": {
    "ExecuteTime": {
     "end_time": "2020-09-21T02:57:00.122967Z",
     "start_time": "2020-09-21T02:56:58.723751Z"
    }
   },
   "outputs": [
    {
     "name": "stdout",
     "output_type": "stream",
     "text": [
      "（MAE） XGB:\t0.016564375395988443\n",
      "MinMax规范化:   0.016636452918435414\n",
      "Standard规范化: 0.01656209569765208\n",
      "选择Standard规范化\n"
     ]
    },
    {
     "data": {
      "image/png": "[encoded data removed]",
      "text/plain": [
       "<Figure size 432x288 with 1 Axes>"
      ]
     },
     "metadata": {
      "needs_background": "light"
     },
     "output_type": "display_data"
    }
   ],
   "source": [
    "choose_scaler('xgb',X)"
   ]
  },
  {
   "cell_type": "code",
   "execution_count": 117,
   "metadata": {
    "ExecuteTime": {
     "end_time": "2020-09-21T02:57:03.306309Z",
     "start_time": "2020-09-21T02:57:02.670437Z"
    }
   },
   "outputs": [
    {
     "name": "stdout",
     "output_type": "stream",
     "text": [
      "（MAE） LGB:\t0.015437267376697029\n",
      "MinMax规范化:   0.0154012110636679\n",
      "Standard规范化: 0.01539896166397152\n",
      "选择Standard规范化\n"
     ]
    },
    {
     "data": {
      "image/png": "[encoded data removed]",
      "text/plain": [
       "<Figure size 432x288 with 1 Axes>"
      ]
     },
     "metadata": {
      "needs_background": "light"
     },
     "output_type": "display_data"
    }
   ],
   "source": [
    "choose_scaler('lgb',X)"
   ]
  },
  {
   "cell_type": "markdown",
   "metadata": {},
   "source": [
    "选择Standard规范化 （3：1）"
   ]
  },
  {
   "cell_type": "code",
   "execution_count": 8,
   "metadata": {
    "ExecuteTime": {
     "end_time": "2020-09-21T06:17:54.959202Z",
     "start_time": "2020-09-21T06:17:54.945811Z"
    }
   },
   "outputs": [],
   "source": [
    "X_standard = pd.DataFrame(standard_scaler.transform(X),columns=X.columns)"
   ]
  },
  {
   "cell_type": "code",
   "execution_count": 9,
   "metadata": {
    "ExecuteTime": {
     "end_time": "2020-09-21T06:17:55.765217Z",
     "start_time": "2020-09-21T06:17:55.743392Z"
    }
   },
   "outputs": [
    {
     "data": {
      "text/html": [
       "<div>\n",
       "<style scoped>\n",
       "    .dataframe tbody tr th:only-of-type {\n",
       "        vertical-align: middle;\n",
       "    }\n",
       "\n",
       "    .dataframe tbody tr th {\n",
       "        vertical-align: top;\n",
       "    }\n",
       "\n",
       "    .dataframe thead th {\n",
       "        text-align: right;\n",
       "    }\n",
       "</style>\n",
       "<table border=\"1\" class=\"dataframe\">\n",
       "  <thead>\n",
       "    <tr style=\"text-align: right;\">\n",
       "      <th></th>\n",
       "      <th>market_cap</th>\n",
       "      <th>circulating_market_cap</th>\n",
       "      <th>turnover_ratio</th>\n",
       "      <th>pe_ratio</th>\n",
       "      <th>pe_ratio_lyr</th>\n",
       "      <th>pb_ratio</th>\n",
       "      <th>ps_ratio</th>\n",
       "      <th>pcf_ratio</th>\n",
       "      <th>cash_equivalents</th>\n",
       "      <th>total_owner_equities</th>\n",
       "      <th>...</th>\n",
       "      <th>inc_return</th>\n",
       "      <th>roa</th>\n",
       "      <th>net_profit_margin</th>\n",
       "      <th>gross_profit_margin</th>\n",
       "      <th>reverse_240_mean</th>\n",
       "      <th>reverse_240_max</th>\n",
       "      <th>reverse_240_start</th>\n",
       "      <th>reverse_120_mean</th>\n",
       "      <th>reverse_120_max</th>\n",
       "      <th>reverse_120_start</th>\n",
       "    </tr>\n",
       "  </thead>\n",
       "  <tbody>\n",
       "    <tr>\n",
       "      <th>0</th>\n",
       "      <td>3006.3701</td>\n",
       "      <td>2584.2351</td>\n",
       "      <td>0.7298</td>\n",
       "      <td>7.7085</td>\n",
       "      <td>7.7340</td>\n",
       "      <td>1.5935</td>\n",
       "      <td>0.8185</td>\n",
       "      <td>8.5519</td>\n",
       "      <td>1.732720e+11</td>\n",
       "      <td>2.741110e+11</td>\n",
       "      <td>...</td>\n",
       "      <td>0.54</td>\n",
       "      <td>0.14</td>\n",
       "      <td>5.09</td>\n",
       "      <td>31.28</td>\n",
       "      <td>-0.048486</td>\n",
       "      <td>-0.190111</td>\n",
       "      <td>-0.017877</td>\n",
       "      <td>-0.067591</td>\n",
       "      <td>-0.190111</td>\n",
       "      <td>-0.063898</td>\n",
       "    </tr>\n",
       "    <tr>\n",
       "      <th>1</th>\n",
       "      <td>47.7827</td>\n",
       "      <td>24.2950</td>\n",
       "      <td>1.5287</td>\n",
       "      <td>3052.5702</td>\n",
       "      <td>1541.6929</td>\n",
       "      <td>3.4228</td>\n",
       "      <td>194.6587</td>\n",
       "      <td>-276.1675</td>\n",
       "      <td>6.683990e+07</td>\n",
       "      <td>1.410845e+09</td>\n",
       "      <td>...</td>\n",
       "      <td>0.25</td>\n",
       "      <td>0.24</td>\n",
       "      <td>15.38</td>\n",
       "      <td>83.07</td>\n",
       "      <td>0.186949</td>\n",
       "      <td>-0.360509</td>\n",
       "      <td>0.247495</td>\n",
       "      <td>0.005048</td>\n",
       "      <td>-0.360509</td>\n",
       "      <td>0.386441</td>\n",
       "    </tr>\n",
       "    <tr>\n",
       "      <th>2</th>\n",
       "      <td>28.0512</td>\n",
       "      <td>28.0356</td>\n",
       "      <td>0.2799</td>\n",
       "      <td>16.3610</td>\n",
       "      <td>16.0579</td>\n",
       "      <td>1.8284</td>\n",
       "      <td>5.4512</td>\n",
       "      <td>297.9045</td>\n",
       "      <td>9.222150e+07</td>\n",
       "      <td>1.630011e+09</td>\n",
       "      <td>...</td>\n",
       "      <td>-1.39</td>\n",
       "      <td>-0.77</td>\n",
       "      <td>-48.92</td>\n",
       "      <td>31.52</td>\n",
       "      <td>-0.115380</td>\n",
       "      <td>-0.313316</td>\n",
       "      <td>-0.060714</td>\n",
       "      <td>-0.081004</td>\n",
       "      <td>-0.180685</td>\n",
       "      <td>-0.117450</td>\n",
       "    </tr>\n",
       "    <tr>\n",
       "      <th>3</th>\n",
       "      <td>70.1997</td>\n",
       "      <td>70.1120</td>\n",
       "      <td>1.8212</td>\n",
       "      <td>8.5794</td>\n",
       "      <td>8.7622</td>\n",
       "      <td>1.0228</td>\n",
       "      <td>1.7682</td>\n",
       "      <td>-6.7698</td>\n",
       "      <td>2.287954e+09</td>\n",
       "      <td>7.310838e+09</td>\n",
       "      <td>...</td>\n",
       "      <td>1.99</td>\n",
       "      <td>0.90</td>\n",
       "      <td>21.56</td>\n",
       "      <td>47.82</td>\n",
       "      <td>-0.001795</td>\n",
       "      <td>-0.095745</td>\n",
       "      <td>-0.053803</td>\n",
       "      <td>0.033374</td>\n",
       "      <td>-0.077758</td>\n",
       "      <td>-0.022989</td>\n",
       "    </tr>\n",
       "    <tr>\n",
       "      <th>4</th>\n",
       "      <td>27.9930</td>\n",
       "      <td>24.9630</td>\n",
       "      <td>2.1321</td>\n",
       "      <td>-297.6667</td>\n",
       "      <td>125.5995</td>\n",
       "      <td>15.0061</td>\n",
       "      <td>67.3774</td>\n",
       "      <td>768.1830</td>\n",
       "      <td>1.441551e+07</td>\n",
       "      <td>1.899865e+08</td>\n",
       "      <td>...</td>\n",
       "      <td>-2.54</td>\n",
       "      <td>-4.42</td>\n",
       "      <td>-260.33</td>\n",
       "      <td>68.37</td>\n",
       "      <td>-0.041280</td>\n",
       "      <td>-0.280859</td>\n",
       "      <td>0.150215</td>\n",
       "      <td>-0.064946</td>\n",
       "      <td>-0.238636</td>\n",
       "      <td>-0.238636</td>\n",
       "    </tr>\n",
       "  </tbody>\n",
       "</table>\n",
       "<p>5 rows × 22 columns</p>\n",
       "</div>"
      ],
      "text/plain": [
       "   market_cap  circulating_market_cap  turnover_ratio   pe_ratio  \\\n",
       "0   3006.3701               2584.2351          0.7298     7.7085   \n",
       "1     47.7827                 24.2950          1.5287  3052.5702   \n",
       "2     28.0512                 28.0356          0.2799    16.3610   \n",
       "3     70.1997                 70.1120          1.8212     8.5794   \n",
       "4     27.9930                 24.9630          2.1321  -297.6667   \n",
       "\n",
       "   pe_ratio_lyr  pb_ratio  ps_ratio  pcf_ratio  cash_equivalents  \\\n",
       "0        7.7340    1.5935    0.8185     8.5519      1.732720e+11   \n",
       "1     1541.6929    3.4228  194.6587  -276.1675      6.683990e+07   \n",
       "2       16.0579    1.8284    5.4512   297.9045      9.222150e+07   \n",
       "3        8.7622    1.0228    1.7682    -6.7698      2.287954e+09   \n",
       "4      125.5995   15.0061   67.3774   768.1830      1.441551e+07   \n",
       "\n",
       "   total_owner_equities  ...  inc_return   roa  net_profit_margin  \\\n",
       "0          2.741110e+11  ...        0.54  0.14               5.09   \n",
       "1          1.410845e+09  ...        0.25  0.24              15.38   \n",
       "2          1.630011e+09  ...       -1.39 -0.77             -48.92   \n",
       "3          7.310838e+09  ...        1.99  0.90              21.56   \n",
       "4          1.899865e+08  ...       -2.54 -4.42            -260.33   \n",
       "\n",
       "   gross_profit_margin  reverse_240_mean  reverse_240_max  reverse_240_start  \\\n",
       "0                31.28         -0.048486        -0.190111          -0.017877   \n",
       "1                83.07          0.186949        -0.360509           0.247495   \n",
       "2                31.52         -0.115380        -0.313316          -0.060714   \n",
       "3                47.82         -0.001795        -0.095745          -0.053803   \n",
       "4                68.37         -0.041280        -0.280859           0.150215   \n",
       "\n",
       "   reverse_120_mean  reverse_120_max  reverse_120_start  \n",
       "0         -0.067591        -0.190111          -0.063898  \n",
       "1          0.005048        -0.360509           0.386441  \n",
       "2         -0.081004        -0.180685          -0.117450  \n",
       "3          0.033374        -0.077758          -0.022989  \n",
       "4         -0.064946        -0.238636          -0.238636  \n",
       "\n",
       "[5 rows x 22 columns]"
      ]
     },
     "execution_count": 9,
     "metadata": {},
     "output_type": "execute_result"
    }
   ],
   "source": [
    "X.head()"
   ]
  },
  {
   "cell_type": "code",
   "execution_count": 10,
   "metadata": {
    "ExecuteTime": {
     "end_time": "2020-09-21T06:17:57.347475Z",
     "start_time": "2020-09-21T06:17:57.328096Z"
    }
   },
   "outputs": [
    {
     "data": {
      "text/html": [
       "<div>\n",
       "<style scoped>\n",
       "    .dataframe tbody tr th:only-of-type {\n",
       "        vertical-align: middle;\n",
       "    }\n",
       "\n",
       "    .dataframe tbody tr th {\n",
       "        vertical-align: top;\n",
       "    }\n",
       "\n",
       "    .dataframe thead th {\n",
       "        text-align: right;\n",
       "    }\n",
       "</style>\n",
       "<table border=\"1\" class=\"dataframe\">\n",
       "  <thead>\n",
       "    <tr style=\"text-align: right;\">\n",
       "      <th></th>\n",
       "      <th>market_cap</th>\n",
       "      <th>circulating_market_cap</th>\n",
       "      <th>turnover_ratio</th>\n",
       "      <th>pe_ratio</th>\n",
       "      <th>pe_ratio_lyr</th>\n",
       "      <th>pb_ratio</th>\n",
       "      <th>ps_ratio</th>\n",
       "      <th>pcf_ratio</th>\n",
       "      <th>cash_equivalents</th>\n",
       "      <th>total_owner_equities</th>\n",
       "      <th>...</th>\n",
       "      <th>inc_return</th>\n",
       "      <th>roa</th>\n",
       "      <th>net_profit_margin</th>\n",
       "      <th>gross_profit_margin</th>\n",
       "      <th>reverse_240_mean</th>\n",
       "      <th>reverse_240_max</th>\n",
       "      <th>reverse_240_start</th>\n",
       "      <th>reverse_120_mean</th>\n",
       "      <th>reverse_120_max</th>\n",
       "      <th>reverse_120_start</th>\n",
       "    </tr>\n",
       "  </thead>\n",
       "  <tbody>\n",
       "    <tr>\n",
       "      <th>0</th>\n",
       "      <td>6.283253</td>\n",
       "      <td>5.865380</td>\n",
       "      <td>-0.514579</td>\n",
       "      <td>0.009112</td>\n",
       "      <td>-0.355857</td>\n",
       "      <td>-0.207767</td>\n",
       "      <td>-0.415505</td>\n",
       "      <td>-0.020787</td>\n",
       "      <td>17.306120</td>\n",
       "      <td>7.519061</td>\n",
       "      <td>...</td>\n",
       "      <td>-0.003616</td>\n",
       "      <td>-0.145411</td>\n",
       "      <td>0.064249</td>\n",
       "      <td>0.127585</td>\n",
       "      <td>-0.395530</td>\n",
       "      <td>0.287772</td>\n",
       "      <td>-0.280458</td>\n",
       "      <td>-0.553713</td>\n",
       "      <td>-0.010594</td>\n",
       "      <td>-0.497072</td>\n",
       "    </tr>\n",
       "    <tr>\n",
       "      <th>1</th>\n",
       "      <td>-0.198813</td>\n",
       "      <td>-0.208846</td>\n",
       "      <td>-0.267088</td>\n",
       "      <td>0.637021</td>\n",
       "      <td>9.252308</td>\n",
       "      <td>-0.034175</td>\n",
       "      <td>18.308219</td>\n",
       "      <td>-0.125042</td>\n",
       "      <td>-0.242894</td>\n",
       "      <td>-0.176296</td>\n",
       "      <td>...</td>\n",
       "      <td>-0.009469</td>\n",
       "      <td>-0.092919</td>\n",
       "      <td>0.085998</td>\n",
       "      <td>1.386018</td>\n",
       "      <td>0.599008</td>\n",
       "      <td>-0.975934</td>\n",
       "      <td>0.219028</td>\n",
       "      <td>-0.099194</td>\n",
       "      <td>-1.450539</td>\n",
       "      <td>0.859635</td>\n",
       "    </tr>\n",
       "    <tr>\n",
       "      <th>2</th>\n",
       "      <td>-0.242044</td>\n",
       "      <td>-0.199970</td>\n",
       "      <td>-0.653954</td>\n",
       "      <td>0.010896</td>\n",
       "      <td>-0.303719</td>\n",
       "      <td>-0.185476</td>\n",
       "      <td>0.031985</td>\n",
       "      <td>0.085165</td>\n",
       "      <td>-0.240322</td>\n",
       "      <td>-0.170111</td>\n",
       "      <td>...</td>\n",
       "      <td>-0.042571</td>\n",
       "      <td>-0.623088</td>\n",
       "      <td>-0.049908</td>\n",
       "      <td>0.133416</td>\n",
       "      <td>-0.678108</td>\n",
       "      <td>-0.625940</td>\n",
       "      <td>-0.361087</td>\n",
       "      <td>-0.637642</td>\n",
       "      <td>0.069053</td>\n",
       "      <td>-0.658405</td>\n",
       "    </tr>\n",
       "    <tr>\n",
       "      <th>3</th>\n",
       "      <td>-0.149699</td>\n",
       "      <td>-0.100131</td>\n",
       "      <td>-0.176474</td>\n",
       "      <td>0.009292</td>\n",
       "      <td>-0.349417</td>\n",
       "      <td>-0.261924</td>\n",
       "      <td>-0.323770</td>\n",
       "      <td>-0.026397</td>\n",
       "      <td>-0.017853</td>\n",
       "      <td>-0.009803</td>\n",
       "      <td>...</td>\n",
       "      <td>0.025651</td>\n",
       "      <td>0.253528</td>\n",
       "      <td>0.099061</td>\n",
       "      <td>0.529486</td>\n",
       "      <td>-0.198294</td>\n",
       "      <td>0.987606</td>\n",
       "      <td>-0.348079</td>\n",
       "      <td>0.078048</td>\n",
       "      <td>0.938837</td>\n",
       "      <td>-0.373827</td>\n",
       "    </tr>\n",
       "    <tr>\n",
       "      <th>4</th>\n",
       "      <td>-0.242171</td>\n",
       "      <td>-0.207260</td>\n",
       "      <td>-0.080160</td>\n",
       "      <td>-0.053862</td>\n",
       "      <td>0.382410</td>\n",
       "      <td>1.065028</td>\n",
       "      <td>6.013659</td>\n",
       "      <td>0.257365</td>\n",
       "      <td>-0.248206</td>\n",
       "      <td>-0.210748</td>\n",
       "      <td>...</td>\n",
       "      <td>-0.065782</td>\n",
       "      <td>-2.539044</td>\n",
       "      <td>-0.496750</td>\n",
       "      <td>1.028826</td>\n",
       "      <td>-0.365090</td>\n",
       "      <td>-0.385232</td>\n",
       "      <td>0.035926</td>\n",
       "      <td>-0.537161</td>\n",
       "      <td>-0.420659</td>\n",
       "      <td>-1.023497</td>\n",
       "    </tr>\n",
       "  </tbody>\n",
       "</table>\n",
       "<p>5 rows × 22 columns</p>\n",
       "</div>"
      ],
      "text/plain": [
       "   market_cap  circulating_market_cap  turnover_ratio  pe_ratio  pe_ratio_lyr  \\\n",
       "0    6.283253                5.865380       -0.514579  0.009112     -0.355857   \n",
       "1   -0.198813               -0.208846       -0.267088  0.637021      9.252308   \n",
       "2   -0.242044               -0.199970       -0.653954  0.010896     -0.303719   \n",
       "3   -0.149699               -0.100131       -0.176474  0.009292     -0.349417   \n",
       "4   -0.242171               -0.207260       -0.080160 -0.053862      0.382410   \n",
       "\n",
       "   pb_ratio   ps_ratio  pcf_ratio  cash_equivalents  total_owner_equities  \\\n",
       "0 -0.207767  -0.415505  -0.020787         17.306120              7.519061   \n",
       "1 -0.034175  18.308219  -0.125042         -0.242894             -0.176296   \n",
       "2 -0.185476   0.031985   0.085165         -0.240322             -0.170111   \n",
       "3 -0.261924  -0.323770  -0.026397         -0.017853             -0.009803   \n",
       "4  1.065028   6.013659   0.257365         -0.248206             -0.210748   \n",
       "\n",
       "   ...  inc_return       roa  net_profit_margin  gross_profit_margin  \\\n",
       "0  ...   -0.003616 -0.145411           0.064249             0.127585   \n",
       "1  ...   -0.009469 -0.092919           0.085998             1.386018   \n",
       "2  ...   -0.042571 -0.623088          -0.049908             0.133416   \n",
       "3  ...    0.025651  0.253528           0.099061             0.529486   \n",
       "4  ...   -0.065782 -2.539044          -0.496750             1.028826   \n",
       "\n",
       "   reverse_240_mean  reverse_240_max  reverse_240_start  reverse_120_mean  \\\n",
       "0         -0.395530         0.287772          -0.280458         -0.553713   \n",
       "1          0.599008        -0.975934           0.219028         -0.099194   \n",
       "2         -0.678108        -0.625940          -0.361087         -0.637642   \n",
       "3         -0.198294         0.987606          -0.348079          0.078048   \n",
       "4         -0.365090        -0.385232           0.035926         -0.537161   \n",
       "\n",
       "   reverse_120_max  reverse_120_start  \n",
       "0        -0.010594          -0.497072  \n",
       "1        -1.450539           0.859635  \n",
       "2         0.069053          -0.658405  \n",
       "3         0.938837          -0.373827  \n",
       "4        -0.420659          -1.023497  \n",
       "\n",
       "[5 rows x 22 columns]"
      ]
     },
     "execution_count": 10,
     "metadata": {},
     "output_type": "execute_result"
    }
   ],
   "source": [
    "X_standard.head()"
   ]
  },
  {
   "cell_type": "markdown",
   "metadata": {},
   "source": [
    "# 3 模型"
   ]
  },
  {
   "cell_type": "code",
   "execution_count": 11,
   "metadata": {
    "ExecuteTime": {
     "end_time": "2020-09-21T06:18:00.113663Z",
     "start_time": "2020-09-21T06:18:00.107712Z"
    }
   },
   "outputs": [],
   "source": [
    "train_x, test_x, train_y, test_y = train_test_split(X_standard, Y, test_size=0.25,random_state=2020)"
   ]
  },
  {
   "cell_type": "code",
   "execution_count": 34,
   "metadata": {
    "ExecuteTime": {
     "end_time": "2020-09-21T06:52:53.079185Z",
     "start_time": "2020-09-21T06:52:53.068739Z"
    }
   },
   "outputs": [],
   "source": [
    "#定义LR回归模型\n",
    "# LinearRegression(fit_intercept=True, normalize=False, copy_X=True, n_jobs=None)\n",
    "# fit_intercept:是否有截据，如果没有则直线过原点;\n",
    "# normalize:是否将数据归一化;\n",
    "# copy_X:默认为True，当为True时，X会被copied,否则X将会被覆写;\n",
    "# n_jobs:默认值为1。计算时使用的核数\n",
    "# 无调参\n",
    "lr = LinearRegression()\n",
    "\n",
    "#定义ridge岭回归模型（使用二范数作为正则化项。不论是使用一范数还是二范数，正则化项的引入均是为了降低过拟合风险。）\n",
    "#注：正则化项如果使用二范数，那么对于任何需要寻优的参数值，在寻优终止时，它都无法将某些参数值变为严格的0，尽管某些参数估计值变得非常小以至于可以忽略。即使用二范数会保留变量的所有信息，不会进行类似PCA的变量凸显。\n",
    "#注：正则化项如果使用一范数，它比L2范数更易于获得“稀疏(sparse)”解，即它的求解结果会有更多的零分量。\n",
    "alphas_alt = [14.5, 14.6, 14.7, 14.8, 14.9, 15, 15.1, 15.2, 15.3, 15.4, 15.5]\n",
    "alphas2 = [5e-05, 0.0001, 0.0002, 0.0003, 0.0004, 0.0005, 0.0006, 0.0007, 0.0008]\n",
    "e_alphas = [0.0001, 0.0002, 0.0003, 0.0004, 0.0005, 0.0006, 0.0007]\n",
    "e_l1ratio = [0.8, 0.85, 0.9, 0.95, 0.99, 1]\n",
    "\n",
    "ridge = make_pipeline(RobustScaler(), RidgeCV(alphas=alphas_alt))\n",
    "\n",
    "#定义LASSO收缩模型（使用L1范数作为正则化项）（由于对目标函数的求解结果中将得到很多的零分量，它也被称为收缩模型。）\n",
    "#注：正则化项如果使用二范数，那么对于任何需要寻优的参数值，在寻优终止时，它都无法将某些参数值变为严格的0，尽管某些参数估计值变得非常小以至于可以忽略。即使用二范数会保留变量的所有信息，不会进行类似PCA的变量凸显。\n",
    "#注：正则化项如果使用一范数，它比L2范数更易于获得“稀疏(sparse)”解，即它的求解结果会有更多的零分量。\n",
    "lasso = make_pipeline(RobustScaler(), LassoCV(max_iter=1e7, alphas=alphas2, random_state=42))\n",
    "\n",
    "#定义elastic net弹性网络模型（弹性网络实际上是结合了岭回归和lasso的特点，同时使用了L1和L2作为正则化项。）\n",
    "enet = make_pipeline(RobustScaler(), ElasticNetCV(max_iter=1e7, alphas=e_alphas, l1_ratio=e_l1ratio))\n",
    "\n",
    "#定义SVM支持向量机模型                                     \n",
    "svr = make_pipeline(RobustScaler(), SVR(C= 20, epsilon= 0.008, gamma=0.0003,))\n",
    "\n",
    "#定义GB梯度提升模型（展开到一阶导数）\n",
    "gbr = GradientBoostingRegressor(n_estimators=3000, learning_rate=0.05, max_depth=4, max_features='sqrt', min_samples_leaf=15, min_samples_split=10, loss='huber', random_state =42)                             \n",
    "\n",
    "#定义lightgbm模型\n",
    "lgb= LGBMRegressor(objective='regression', \n",
    "                                       num_leaves=4,\n",
    "                                       learning_rate=0.01, \n",
    "                                       n_estimators=5000,\n",
    "                                       max_bin=200, \n",
    "                                       bagging_fraction=0.75,\n",
    "                                       bagging_freq=5, \n",
    "                                       bagging_seed=7,\n",
    "                                       feature_fraction=0.2,\n",
    "                                       feature_fraction_seed=7,\n",
    "                                       verbose=-1,\n",
    "                                       #min_data_in_leaf=2,\n",
    "                                       #min_sum_hessian_in_leaf=11\n",
    "                                       )\n",
    "\n",
    "#定义xgboost模型（展开到二阶导数）                                      \n",
    "xgb = XGBRegressor(learning_rate=0.01, n_estimators=3460,\n",
    "                                     max_depth=3, min_child_weight=0,\n",
    "                                     gamma=0, subsample=0.7,\n",
    "                                     colsample_bytree=0.7,\n",
    "                                     # objective='reg:linear', nthread=-1,\n",
    "                                     objective='reg:squarederror', nthread=-1,\n",
    "                                     scale_pos_weight=1, seed=27,\n",
    "                                     reg_alpha=0.00006)\n",
    "\n",
    "#定义catboost模型\n",
    "cat =  CatBoostRegressor(iterations=700,learning_rate=0.02,\n",
    "                         depth=12,eval_metric='MAE',random_seed = 23,\n",
    "                         bagging_temperature = 0.2,od_type='Iter',verbose=False)\n",
    "\n",
    "# 定义ngboost模型\n",
    "ngb = NGBRegressor(Base=default_tree_learner, Dist=Normal,  natural_gradient=True,verbose=False)"
   ]
  },
  {
   "cell_type": "code",
   "execution_count": 38,
   "metadata": {
    "ExecuteTime": {
     "end_time": "2020-09-21T07:12:50.710136Z",
     "start_time": "2020-09-21T07:12:50.706664Z"
    }
   },
   "outputs": [],
   "source": [
    "# #集成多个个体学习器\n",
    "# 这里我仅保留了最好的四大基础模型和一个最好的树模型ngb，下图也证实了模型的效果\n",
    "stack_gen = StackingCVRegressor(regressors=(lr,ridge,lasso,enet,ngb),\n",
    "                                meta_regressor=ngb,\n",
    "                                use_features_in_secondary=True)"
   ]
  },
  {
   "cell_type": "code",
   "execution_count": 39,
   "metadata": {
    "ExecuteTime": {
     "end_time": "2020-09-21T07:20:34.852585Z",
     "start_time": "2020-09-21T07:12:51.709813Z"
    }
   },
   "outputs": [
    {
     "name": "stdout",
     "output_type": "stream",
     "text": [
      "name  lr :\t\n",
      "MAE: 0.014288303906222002\n",
      "name  ridge :\t\n",
      "MAE: 0.014287615908247427\n",
      "name  lasso :\t\n",
      "MAE: 0.014239597897705153\n",
      "name  enet :\t\n",
      "MAE: 0.01424452891261199\n",
      "name  svr :\t\n",
      "MAE: 0.015095702050737807\n",
      "name  gbr :\t\n",
      "MAE: 0.016071717686959825\n",
      "name  lgb :\t\n",
      "MAE: 0.01476210549949297\n",
      "name  xgb :\t\n",
      "MAE: 0.014830061730997204\n",
      "name  cat :\t\n",
      "MAE: 0.015334465343863785\n",
      "name  ngb :\t\n",
      "MAE: 0.01457002487555275\n",
      "name  stack_gen :\t\n",
      "MAE: 0.014385880349091471\n"
     ]
    }
   ],
   "source": [
    "mae = []\n",
    "model_name =    ['lr','ridge','lasso','enet','svr','gbr','lgb','xgb','cat','ngb','stack_gen']\n",
    "for model,name in zip([lr,ridge,lasso,enet,svr,gbr,lgb,xgb,cat,ngb,stack_gen],model_name):\n",
    "    model.fit(np.array(train_x),np.array(train_y))\n",
    "    MAE = mean_absolute_error(model.predict(np.array(test_x)),test_y)\n",
    "    print('name ',name,':\\t')\n",
    "    print('MAE:',MAE)\n",
    "    mae.append(MAE)"
   ]
  },
  {
   "cell_type": "code",
   "execution_count": 44,
   "metadata": {
    "ExecuteTime": {
     "end_time": "2020-09-21T07:22:24.860426Z",
     "start_time": "2020-09-21T07:22:24.685338Z"
    }
   },
   "outputs": [
    {
     "data": {
      "text/plain": [
       "<BarContainer object of 11 artists>"
      ]
     },
     "execution_count": 44,
     "metadata": {},
     "output_type": "execute_result"
    },
    {
     "data": {
      "image/png": "[encoded data removed]",
      "text/plain": [
       "<Figure size 720x360 with 1 Axes>"
      ]
     },
     "metadata": {},
     "output_type": "display_data"
    }
   ],
   "source": [
    "sns.set()\n",
    "plt.figure(figsize=(10,5))\n",
    "plt.ylim(0.014,0.016)\n",
    "plt.title('M A E')\n",
    "plt.bar(model_name,mae)"
   ]
  },
  {
   "cell_type": "code",
   "execution_count": 58,
   "metadata": {
    "ExecuteTime": {
     "end_time": "2020-09-21T07:50:32.410360Z",
     "start_time": "2020-09-21T07:50:32.405426Z"
    },
    "scrolled": true
   },
   "outputs": [
    {
     "data": {
      "text/plain": [
       "[0.014288303906222002,\n",
       " 0.014287615908247427,\n",
       " 0.014239597897705153,\n",
       " 0.01424452891261199,\n",
       " 0.015095702050737807,\n",
       " 0.016071717686959825,\n",
       " 0.01476210549949297,\n",
       " 0.014830061730997204,\n",
       " 0.015334465343863785,\n",
       " 0.01457002487555275,\n",
       " 0.014385880349091471,\n",
       " 0.16604886564635143]"
      ]
     },
     "execution_count": 58,
     "metadata": {},
     "output_type": "execute_result"
    }
   ],
   "source": [
    "mae"
   ]
  },
  {
   "cell_type": "code",
   "execution_count": 63,
   "metadata": {
    "ExecuteTime": {
     "end_time": "2020-09-21T07:59:15.288959Z",
     "start_time": "2020-09-21T07:51:35.228802Z"
    }
   },
   "outputs": [],
   "source": [
    "w = [1/i for i in mae]\n",
    "w = [i/sum(w) for i in w]\n",
    "# 综合多个模型产生的预测值，作为多模型组合学习器的预测值\n",
    "lr    = lr.fit(train_x,train_y)\n",
    "ridge = ridge.fit(train_x,train_y)\n",
    "lasso = lasso.fit(train_x,train_y)\n",
    "enet  = enet.fit(train_x,train_y)\n",
    "svr   = svr.fit(train_x,train_y)\n",
    "gbr   = gbr.fit(train_x,train_y)\n",
    "lgb   = lgb.fit(train_x,train_y)\n",
    "xgb   = xgb.fit(train_x,train_y)\n",
    "cat   = cat.fit(train_x,train_y)\n",
    "ngb   = ngb.fit(train_x,train_y)\n",
    "stack_gen = stack_gen.fit(train_x,train_y)\n",
    "\n",
    "def blend_models_predict(test_x):\n",
    "    return (\n",
    "            lr.predict(test_x)      * w[0]+\n",
    "            ridge.predict(test_x)   * w[1]+\n",
    "            lasso.predict(test_x)   * w[2]+\n",
    "            enet.predict(test_x)    * w[3]+\n",
    "            svr.predict(test_x)     * w[4]+\n",
    "            gbr.predict(test_x)     * w[5]+\n",
    "            lgb.predict(test_x)     * w[6]+\n",
    "            xgb.predict(test_x)     * w[7]+\n",
    "           cat.predict(test_x)      * w[8]+\n",
    "           ngb.predict(test_x)      * w[9]+\n",
    "           stack_gen.predict(np.array(test_x)) * w[10] \n",
    "           )\n",
    "blend_all_pre = blend_models_predict(test_x)\n",
    "\n",
    "\n",
    "mae.append(mean_absolute_error(blend_all_pre,test_y))\n",
    "model_name.append('blend')"
   ]
  },
  {
   "cell_type": "code",
   "execution_count": 67,
   "metadata": {
    "ExecuteTime": {
     "end_time": "2020-09-21T07:59:57.079974Z",
     "start_time": "2020-09-21T07:59:56.909318Z"
    }
   },
   "outputs": [
    {
     "data": {
      "text/plain": [
       "<BarContainer object of 13 artists>"
      ]
     },
     "execution_count": 67,
     "metadata": {},
     "output_type": "execute_result"
    },
    {
     "data": {
      "image/png": "[encoded data removed]",
      "text/plain": [
       "<Figure size 720x360 with 1 Axes>"
      ]
     },
     "metadata": {},
     "output_type": "display_data"
    }
   ],
   "source": [
    "sns.set()\n",
    "plt.figure(figsize=(10,5))\n",
    "plt.ylim(0.014,0.016)\n",
    "plt.title('M    A    E')\n",
    "plt.bar(model_name,mae)"
   ]
  }
 ],
 "metadata": {
  "kernelspec": {
   "display_name": "Python 3",
   "language": "python",
   "name": "python3"
  },
  "language_info": {
   "codemirror_mode": {
    "name": "ipython",
    "version": 3
   },
   "file_extension": ".py",
   "mimetype": "text/x-python",
   "name": "python",
   "nbconvert_exporter": "python",
   "pygments_lexer": "ipython3",
   "version": "3.6.7"
  },
  "toc": {
   "base_numbering": 1,
   "nav_menu": {},
   "number_sections": true,
   "sideBar": true,
   "skip_h1_title": false,
   "title_cell": "Table of Contents",
   "title_sidebar": "Contents",
   "toc_cell": false,
   "toc_position": {},
   "toc_section_display": true,
   "toc_window_display": false
  }
 },
 "nbformat": 4,
 "nbformat_minor": 4
}
